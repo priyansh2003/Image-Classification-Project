{
  "nbformat": 4,
  "nbformat_minor": 0,
  "metadata": {
    "colab": {
      "provenance": [],
      "mount_file_id": "1Aq-ZM9TP4Orkzbawq8wd3dcEOy8HFeqe",
      "authorship_tag": "ABX9TyNBLXhxapVDxm5zobAwIaet",
      "include_colab_link": true
    },
    "kernelspec": {
      "name": "python3",
      "display_name": "Python 3"
    },
    "language_info": {
      "name": "python"
    }
  },
  "cells": [
    {
      "cell_type": "markdown",
      "metadata": {
        "id": "view-in-github",
        "colab_type": "text"
      },
      "source": [
        "<a href=\"https://colab.research.google.com/github/priyansh2003/Image-Classification-Project/blob/main/ImageClassification.ipynb\" target=\"_parent\"><img src=\"https://colab.research.google.com/assets/colab-badge.svg\" alt=\"Open In Colab\"/></a>"
      ]
    },
    {
      "cell_type": "markdown",
      "source": [
        "IMPORTING DEPENDENCIES AND REDUCING MEMORY SPACE IN THE GPU\n",
        "\n"
      ],
      "metadata": {
        "id": "oxeS4KOcoLaF"
      }
    },
    {
      "cell_type": "code",
      "source": [
        "!pip install tensorflow tensorflow-gpu opencv-python matplotlib"
      ],
      "metadata": {
        "id": "4X8Oef1I_khY"
      },
      "execution_count": null,
      "outputs": []
    },
    {
      "cell_type": "code",
      "source": [
        "import tensorflow as tf \n",
        "import os as os"
      ],
      "metadata": {
        "id": "xzSoIiZBAwVk"
      },
      "execution_count": 3,
      "outputs": []
    },
    {
      "cell_type": "code",
      "source": [
        "#Ensuring minimum space is used by the system\n",
        "\n",
        "gpus = tf.config.experimental.list_physical_devices('GPU')\n",
        "for gpu in gpus:\n",
        "  tf.config.experimental.set_memory_growth(gpu , True)"
      ],
      "metadata": {
        "id": "5s4HfAXMBhMM"
      },
      "execution_count": 4,
      "outputs": []
    },
    {
      "cell_type": "code",
      "source": [
        "import cv2\n",
        "import imghdr\n",
        "from matplotlib import pyplot as plt"
      ],
      "metadata": {
        "id": "zMlXyBOpBw-F"
      },
      "execution_count": 5,
      "outputs": []
    },
    {
      "cell_type": "code",
      "source": [
        "data_dir = '/content/drive/MyDrive/Colab Notebooks/Image Classification Project/data'"
      ],
      "metadata": {
        "id": "f3yh3k7Ley3H"
      },
      "execution_count": 6,
      "outputs": []
    },
    {
      "cell_type": "code",
      "source": [
        "os.listdir(os.path.join(data_dir, 'happy'))"
      ],
      "metadata": {
        "id": "iqQonJ8CfA_1"
      },
      "execution_count": null,
      "outputs": []
    },
    {
      "cell_type": "code",
      "source": [
        "img_exts = ['jpeg' , 'jpg' , 'png' , 'bmp']"
      ],
      "metadata": {
        "id": "pcHmGVC0oCNT"
      },
      "execution_count": 8,
      "outputs": []
    },
    {
      "cell_type": "code",
      "source": [
        "for image_class in os.listdir(data_dir):\n",
        "     for image in os.listdir(os.path.join(data_dir , image_class)):\n",
        "         image_path = os.path.join(data_dir,image_class,image)\n",
        "         try:\n",
        "          img = cv2.imread(image_path)\n",
        "          tip = imghdr.what(image_path)\n",
        "          if tip not in img_exts:\n",
        "             print('image not in ext list {}'.format(image_path))\n",
        "             os.remove(image_path)\n",
        "         except Exception as e:\n",
        "           print('issue with image{}'.format(image_path))   "
      ],
      "metadata": {
        "id": "HADfSPtysEwu"
      },
      "execution_count": 9,
      "outputs": []
    },
    {
      "cell_type": "markdown",
      "source": [
        "IMPORTING DATASETS"
      ],
      "metadata": {
        "id": "3pr-_AFiwWwr"
      }
    },
    {
      "cell_type": "code",
      "source": [
        "tf.data.Dataset"
      ],
      "metadata": {
        "colab": {
          "base_uri": "https://localhost:8080/"
        },
        "id": "MON0NDTxPoa6",
        "outputId": "a0944f18-b913-42be-9a6a-383cb13d278e"
      },
      "execution_count": 10,
      "outputs": [
        {
          "output_type": "execute_result",
          "data": {
            "text/plain": [
              "tensorflow.python.data.ops.dataset_ops.DatasetV2"
            ]
          },
          "metadata": {},
          "execution_count": 10
        }
      ]
    },
    {
      "cell_type": "code",
      "source": [
        "#Importing data set specific dependencies\n",
        "import numpy as np\n",
        "from matplotlib import pyplot as plt"
      ],
      "metadata": {
        "id": "ql9XSYpHwbFi"
      },
      "execution_count": 11,
      "outputs": []
    },
    {
      "cell_type": "code",
      "source": [
        "data = tf.keras.utils.image_dataset_from_directory(data_dir)"
      ],
      "metadata": {
        "colab": {
          "base_uri": "https://localhost:8080/"
        },
        "id": "4Sk4k9OExBrn",
        "outputId": "24e63816-c937-473b-91d2-98c1c84bd135"
      },
      "execution_count": 12,
      "outputs": [
        {
          "output_type": "stream",
          "name": "stdout",
          "text": [
            "Found 233 files belonging to 2 classes.\n"
          ]
        }
      ]
    },
    {
      "cell_type": "code",
      "source": [
        "#accessing my data pipeline\n",
        "data_iterator = data.as_numpy_iterator()"
      ],
      "metadata": {
        "id": "6jy8yX8RNY7P"
      },
      "execution_count": 13,
      "outputs": []
    },
    {
      "cell_type": "code",
      "source": [
        "data_iterator"
      ],
      "metadata": {
        "colab": {
          "base_uri": "https://localhost:8080/"
        },
        "id": "JOUKxudW6QiJ",
        "outputId": "76d91637-f93e-496b-b0e6-d3d815224f58"
      },
      "execution_count": 14,
      "outputs": [
        {
          "output_type": "execute_result",
          "data": {
            "text/plain": [
              "<tensorflow.python.data.ops.dataset_ops._NumpyIterator at 0x7f1af36cda00>"
            ]
          },
          "metadata": {},
          "execution_count": 14
        }
      ]
    },
    {
      "cell_type": "code",
      "source": [
        "#returning different batches\n",
        "batch = data_iterator.next()"
      ],
      "metadata": {
        "id": "6o6fbafGOML9"
      },
      "execution_count": 15,
      "outputs": []
    },
    {
      "cell_type": "code",
      "source": [
        "batch[0].shape"
      ],
      "metadata": {
        "colab": {
          "base_uri": "https://localhost:8080/"
        },
        "id": "QrHcAnOMCErB",
        "outputId": "92f19d00-c61f-4332-920a-d095768957f1"
      },
      "execution_count": 16,
      "outputs": [
        {
          "output_type": "execute_result",
          "data": {
            "text/plain": [
              "(32, 256, 256, 3)"
            ]
          },
          "metadata": {},
          "execution_count": 16
        }
      ]
    },
    {
      "cell_type": "code",
      "source": [
        "data = data.map(lambda x,y : (x/255 , y))"
      ],
      "metadata": {
        "id": "7ZJE6ioGEtUa"
      },
      "execution_count": 17,
      "outputs": []
    },
    {
      "cell_type": "code",
      "source": [
        "data.as_numpy_iterator().next()"
      ],
      "metadata": {
        "id": "UjhdpdtaE1kR"
      },
      "execution_count": null,
      "outputs": []
    },
    {
      "cell_type": "code",
      "source": [
        "len(data)"
      ],
      "metadata": {
        "colab": {
          "base_uri": "https://localhost:8080/"
        },
        "id": "ncyR98OrqZoF",
        "outputId": "abb2df61-445e-4b97-8407-14481ea3758a"
      },
      "execution_count": 19,
      "outputs": [
        {
          "output_type": "execute_result",
          "data": {
            "text/plain": [
              "8"
            ]
          },
          "metadata": {},
          "execution_count": 19
        }
      ]
    },
    {
      "cell_type": "code",
      "source": [
        "train_size = int(len(data)*0.7) +1\n",
        "val_size = int(len(data)*0.2) +1\n",
        "test_size = int(len(data)*0.1)"
      ],
      "metadata": {
        "id": "rqFgDmvqqd5j"
      },
      "execution_count": 20,
      "outputs": []
    },
    {
      "cell_type": "code",
      "source": [
        "train_size  + val_size + test_size"
      ],
      "metadata": {
        "colab": {
          "base_uri": "https://localhost:8080/"
        },
        "id": "VTfsmVeaqxSG",
        "outputId": "96bdd3e3-1be2-4bbe-ff43-3eb12b81e519"
      },
      "execution_count": 23,
      "outputs": [
        {
          "output_type": "execute_result",
          "data": {
            "text/plain": [
              "8"
            ]
          },
          "metadata": {},
          "execution_count": 23
        }
      ]
    },
    {
      "cell_type": "code",
      "source": [
        "train = data.take(train_size)\n",
        "val = data.skip(train_size).take(val_size)\n",
        "test = data.skip(train_size + val_size).take(test_size)"
      ],
      "metadata": {
        "id": "PhSWoaoMsRGe"
      },
      "execution_count": 24,
      "outputs": []
    },
    {
      "cell_type": "markdown",
      "source": [
        "FINALLY MAKING THE NEURAL NETWORK ARCHITECTURE!\n"
      ],
      "metadata": {
        "id": "jnDYdD7XtRj-"
      }
    },
    {
      "cell_type": "code",
      "source": [
        "from tensorflow.keras.models import Sequential\n",
        "from tensorflow.keras.layers import Conv2D, MaxPooling2D , Dense , Flatten"
      ],
      "metadata": {
        "id": "PHSOV2TOtW3j"
      },
      "execution_count": 25,
      "outputs": []
    },
    {
      "cell_type": "code",
      "source": [
        "model = Sequential()"
      ],
      "metadata": {
        "id": "zAILapr8xe5h"
      },
      "execution_count": 26,
      "outputs": []
    },
    {
      "cell_type": "code",
      "source": [
        "model.add(Conv2D(16 , (3,3) , 1 , activation = 'relu' , input_shape = (256,256,3)))\n",
        "model.add(MaxPooling2D())"
      ],
      "metadata": {
        "id": "OaclTICkxhjs"
      },
      "execution_count": 29,
      "outputs": []
    }
  ]
}