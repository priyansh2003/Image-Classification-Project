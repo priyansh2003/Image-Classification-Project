{
  "nbformat": 4,
  "nbformat_minor": 0,
  "metadata": {
    "colab": {
      "provenance": [],
      "mount_file_id": "1Aq-ZM9TP4Orkzbawq8wd3dcEOy8HFeqe",
      "authorship_tag": "ABX9TyPwJsVJ19VjLXC7W0XcjPCa",
      "include_colab_link": true
    },
    "kernelspec": {
      "name": "python3",
      "display_name": "Python 3"
    },
    "language_info": {
      "name": "python"
    }
  },
  "cells": [
    {
      "cell_type": "markdown",
      "metadata": {
        "id": "view-in-github",
        "colab_type": "text"
      },
      "source": [
        "<a href=\"https://colab.research.google.com/github/priyansh2003/Image-Classification-Project/blob/main/ImageClassification.ipynb\" target=\"_parent\"><img src=\"https://colab.research.google.com/assets/colab-badge.svg\" alt=\"Open In Colab\"/></a>"
      ]
    },
    {
      "cell_type": "markdown",
      "source": [
        "IMPORTING DEPENDENCIES AND REDUCING MEMORY SPACE IN THE GPU\n",
        "\n"
      ],
      "metadata": {
        "id": "oxeS4KOcoLaF"
      }
    },
    {
      "cell_type": "code",
      "source": [
        "!pip install tensorflow tensorflow-gpu opencv-python matplotlib"
      ],
      "metadata": {
        "id": "4X8Oef1I_khY",
        "colab": {
          "base_uri": "https://localhost:8080/"
        },
        "outputId": "55458704-f872-4105-e49c-9df3ffe397ad"
      },
      "execution_count": 1,
      "outputs": [
        {
          "output_type": "stream",
          "name": "stdout",
          "text": [
            "Looking in indexes: https://pypi.org/simple, https://us-python.pkg.dev/colab-wheels/public/simple/\n",
            "Requirement already satisfied: tensorflow in /usr/local/lib/python3.8/dist-packages (2.9.2)\n",
            "Collecting tensorflow-gpu\n",
            "  Downloading tensorflow_gpu-2.11.0-cp38-cp38-manylinux_2_17_x86_64.manylinux2014_x86_64.whl (588.3 MB)\n",
            "\u001b[K     |████████████████████████████████| 588.3 MB 19 kB/s \n",
            "\u001b[?25hRequirement already satisfied: opencv-python in /usr/local/lib/python3.8/dist-packages (4.6.0.66)\n",
            "Requirement already satisfied: matplotlib in /usr/local/lib/python3.8/dist-packages (3.2.2)\n",
            "Requirement already satisfied: setuptools in /usr/local/lib/python3.8/dist-packages (from tensorflow) (57.4.0)\n",
            "Requirement already satisfied: tensorflow-estimator<2.10.0,>=2.9.0rc0 in /usr/local/lib/python3.8/dist-packages (from tensorflow) (2.9.0)\n",
            "Requirement already satisfied: absl-py>=1.0.0 in /usr/local/lib/python3.8/dist-packages (from tensorflow) (1.3.0)\n",
            "Requirement already satisfied: libclang>=13.0.0 in /usr/local/lib/python3.8/dist-packages (from tensorflow) (14.0.6)\n",
            "Requirement already satisfied: grpcio<2.0,>=1.24.3 in /usr/local/lib/python3.8/dist-packages (from tensorflow) (1.51.1)\n",
            "Requirement already satisfied: keras-preprocessing>=1.1.1 in /usr/local/lib/python3.8/dist-packages (from tensorflow) (1.1.2)\n",
            "Requirement already satisfied: six>=1.12.0 in /usr/local/lib/python3.8/dist-packages (from tensorflow) (1.15.0)\n",
            "Requirement already satisfied: typing-extensions>=3.6.6 in /usr/local/lib/python3.8/dist-packages (from tensorflow) (4.4.0)\n",
            "Requirement already satisfied: flatbuffers<2,>=1.12 in /usr/local/lib/python3.8/dist-packages (from tensorflow) (1.12)\n",
            "Requirement already satisfied: termcolor>=1.1.0 in /usr/local/lib/python3.8/dist-packages (from tensorflow) (2.1.1)\n",
            "Requirement already satisfied: wrapt>=1.11.0 in /usr/local/lib/python3.8/dist-packages (from tensorflow) (1.14.1)\n",
            "Requirement already satisfied: astunparse>=1.6.0 in /usr/local/lib/python3.8/dist-packages (from tensorflow) (1.6.3)\n",
            "Requirement already satisfied: tensorflow-io-gcs-filesystem>=0.23.1 in /usr/local/lib/python3.8/dist-packages (from tensorflow) (0.28.0)\n",
            "Requirement already satisfied: h5py>=2.9.0 in /usr/local/lib/python3.8/dist-packages (from tensorflow) (3.1.0)\n",
            "Requirement already satisfied: keras<2.10.0,>=2.9.0rc0 in /usr/local/lib/python3.8/dist-packages (from tensorflow) (2.9.0)\n",
            "Requirement already satisfied: packaging in /usr/local/lib/python3.8/dist-packages (from tensorflow) (21.3)\n",
            "Requirement already satisfied: protobuf<3.20,>=3.9.2 in /usr/local/lib/python3.8/dist-packages (from tensorflow) (3.19.6)\n",
            "Requirement already satisfied: numpy>=1.20 in /usr/local/lib/python3.8/dist-packages (from tensorflow) (1.21.6)\n",
            "Requirement already satisfied: google-pasta>=0.1.1 in /usr/local/lib/python3.8/dist-packages (from tensorflow) (0.2.0)\n",
            "Requirement already satisfied: tensorboard<2.10,>=2.9 in /usr/local/lib/python3.8/dist-packages (from tensorflow) (2.9.1)\n",
            "Requirement already satisfied: gast<=0.4.0,>=0.2.1 in /usr/local/lib/python3.8/dist-packages (from tensorflow) (0.4.0)\n",
            "Requirement already satisfied: opt-einsum>=2.3.2 in /usr/local/lib/python3.8/dist-packages (from tensorflow) (3.3.0)\n",
            "Requirement already satisfied: wheel<1.0,>=0.23.0 in /usr/local/lib/python3.8/dist-packages (from astunparse>=1.6.0->tensorflow) (0.38.4)\n",
            "Requirement already satisfied: tensorboard-plugin-wit>=1.6.0 in /usr/local/lib/python3.8/dist-packages (from tensorboard<2.10,>=2.9->tensorflow) (1.8.1)\n",
            "Requirement already satisfied: requests<3,>=2.21.0 in /usr/local/lib/python3.8/dist-packages (from tensorboard<2.10,>=2.9->tensorflow) (2.23.0)\n",
            "Requirement already satisfied: tensorboard-data-server<0.7.0,>=0.6.0 in /usr/local/lib/python3.8/dist-packages (from tensorboard<2.10,>=2.9->tensorflow) (0.6.1)\n",
            "Requirement already satisfied: google-auth<3,>=1.6.3 in /usr/local/lib/python3.8/dist-packages (from tensorboard<2.10,>=2.9->tensorflow) (2.15.0)\n",
            "Requirement already satisfied: google-auth-oauthlib<0.5,>=0.4.1 in /usr/local/lib/python3.8/dist-packages (from tensorboard<2.10,>=2.9->tensorflow) (0.4.6)\n",
            "Requirement already satisfied: markdown>=2.6.8 in /usr/local/lib/python3.8/dist-packages (from tensorboard<2.10,>=2.9->tensorflow) (3.4.1)\n",
            "Requirement already satisfied: werkzeug>=1.0.1 in /usr/local/lib/python3.8/dist-packages (from tensorboard<2.10,>=2.9->tensorflow) (1.0.1)\n",
            "Requirement already satisfied: pyasn1-modules>=0.2.1 in /usr/local/lib/python3.8/dist-packages (from google-auth<3,>=1.6.3->tensorboard<2.10,>=2.9->tensorflow) (0.2.8)\n",
            "Requirement already satisfied: cachetools<6.0,>=2.0.0 in /usr/local/lib/python3.8/dist-packages (from google-auth<3,>=1.6.3->tensorboard<2.10,>=2.9->tensorflow) (5.2.0)\n",
            "Requirement already satisfied: rsa<5,>=3.1.4 in /usr/local/lib/python3.8/dist-packages (from google-auth<3,>=1.6.3->tensorboard<2.10,>=2.9->tensorflow) (4.9)\n",
            "Requirement already satisfied: requests-oauthlib>=0.7.0 in /usr/local/lib/python3.8/dist-packages (from google-auth-oauthlib<0.5,>=0.4.1->tensorboard<2.10,>=2.9->tensorflow) (1.3.1)\n",
            "Requirement already satisfied: importlib-metadata>=4.4 in /usr/local/lib/python3.8/dist-packages (from markdown>=2.6.8->tensorboard<2.10,>=2.9->tensorflow) (5.1.0)\n",
            "Requirement already satisfied: zipp>=0.5 in /usr/local/lib/python3.8/dist-packages (from importlib-metadata>=4.4->markdown>=2.6.8->tensorboard<2.10,>=2.9->tensorflow) (3.11.0)\n",
            "Requirement already satisfied: pyasn1<0.5.0,>=0.4.6 in /usr/local/lib/python3.8/dist-packages (from pyasn1-modules>=0.2.1->google-auth<3,>=1.6.3->tensorboard<2.10,>=2.9->tensorflow) (0.4.8)\n",
            "Requirement already satisfied: certifi>=2017.4.17 in /usr/local/lib/python3.8/dist-packages (from requests<3,>=2.21.0->tensorboard<2.10,>=2.9->tensorflow) (2022.12.7)\n",
            "Requirement already satisfied: chardet<4,>=3.0.2 in /usr/local/lib/python3.8/dist-packages (from requests<3,>=2.21.0->tensorboard<2.10,>=2.9->tensorflow) (3.0.4)\n",
            "Requirement already satisfied: idna<3,>=2.5 in /usr/local/lib/python3.8/dist-packages (from requests<3,>=2.21.0->tensorboard<2.10,>=2.9->tensorflow) (2.10)\n",
            "Requirement already satisfied: urllib3!=1.25.0,!=1.25.1,<1.26,>=1.21.1 in /usr/local/lib/python3.8/dist-packages (from requests<3,>=2.21.0->tensorboard<2.10,>=2.9->tensorflow) (1.24.3)\n",
            "Requirement already satisfied: oauthlib>=3.0.0 in /usr/local/lib/python3.8/dist-packages (from requests-oauthlib>=0.7.0->google-auth-oauthlib<0.5,>=0.4.1->tensorboard<2.10,>=2.9->tensorflow) (3.2.2)\n",
            "  Downloading tensorflow_gpu-2.10.1-cp38-cp38-manylinux_2_17_x86_64.manylinux2014_x86_64.whl (578.1 MB)\n",
            "\u001b[K     |████████████████████████████████| 578.1 MB 8.0 kB/s \n",
            "\u001b[?25h  Downloading tensorflow_gpu-2.10.0-cp38-cp38-manylinux_2_17_x86_64.manylinux2014_x86_64.whl (578.1 MB)\n",
            "\u001b[K     |████████████████████████████████| 578.1 MB 6.9 kB/s \n",
            "\u001b[?25h  Downloading tensorflow_gpu-2.9.3-cp38-cp38-manylinux_2_17_x86_64.manylinux2014_x86_64.whl (511.8 MB)\n",
            "\u001b[K     |████████████████████████████████| 511.8 MB 29 kB/s \n",
            "\u001b[?25hRequirement already satisfied: cycler>=0.10 in /usr/local/lib/python3.8/dist-packages (from matplotlib) (0.11.0)\n",
            "Requirement already satisfied: pyparsing!=2.0.4,!=2.1.2,!=2.1.6,>=2.0.1 in /usr/local/lib/python3.8/dist-packages (from matplotlib) (3.0.9)\n",
            "Requirement already satisfied: python-dateutil>=2.1 in /usr/local/lib/python3.8/dist-packages (from matplotlib) (2.8.2)\n",
            "Requirement already satisfied: kiwisolver>=1.0.1 in /usr/local/lib/python3.8/dist-packages (from matplotlib) (1.4.4)\n",
            "Installing collected packages: tensorflow-gpu\n",
            "Successfully installed tensorflow-gpu-2.9.3\n"
          ]
        }
      ]
    },
    {
      "cell_type": "code",
      "source": [
        "import tensorflow as tf \n",
        "import os as os"
      ],
      "metadata": {
        "id": "xzSoIiZBAwVk"
      },
      "execution_count": 2,
      "outputs": []
    },
    {
      "cell_type": "code",
      "source": [
        "#Ensuring minimum space is used by the system\n",
        "\n",
        "gpus = tf.config.experimental.list_physical_devices('GPU')\n",
        "for gpu in gpus:\n",
        "  tf.config.experimental.set_memory_growth(gpu , True)"
      ],
      "metadata": {
        "id": "5s4HfAXMBhMM"
      },
      "execution_count": 3,
      "outputs": []
    },
    {
      "cell_type": "code",
      "source": [
        "import cv2\n",
        "import imghdr\n",
        "from matplotlib import pyplot as plt"
      ],
      "metadata": {
        "id": "zMlXyBOpBw-F"
      },
      "execution_count": 4,
      "outputs": []
    },
    {
      "cell_type": "code",
      "source": [
        "data_dir = '/content/drive/MyDrive/Colab Notebooks/Image Classification Project/data'"
      ],
      "metadata": {
        "id": "f3yh3k7Ley3H"
      },
      "execution_count": 5,
      "outputs": []
    },
    {
      "cell_type": "code",
      "source": [
        "os.listdir(os.path.join(data_dir, 'happy'))"
      ],
      "metadata": {
        "id": "iqQonJ8CfA_1",
        "colab": {
          "base_uri": "https://localhost:8080/"
        },
        "outputId": "c503e9f3-3bee-478e-cdc5-08fc6255f196"
      },
      "execution_count": 6,
      "outputs": [
        {
          "output_type": "execute_result",
          "data": {
            "text/plain": [
              "['image15.jpeg',\n",
              " 'image18.jpeg',\n",
              " 'image17.jpeg',\n",
              " 'image31.jpeg',\n",
              " 'images10.jpg',\n",
              " 'sunset-570881__340.jpg',\n",
              " 'image19.jpeg',\n",
              " 'image24.jpeg',\n",
              " 'images6.jpg',\n",
              " 'images29.jpg',\n",
              " 'unny-people-with-balls-isolated-over-white-background-stock-image_csp4749806.jpg',\n",
              " 'images16.jpg',\n",
              " 'images23.jpg',\n",
              " '1000_F_42220133_toAU6USGY9jVr2XJFLssfG00cSYIJ173.jpg',\n",
              " 'images28.jpg',\n",
              " 'happy-woman-in-nature-at-sunset.jpg',\n",
              " '171120-smile-stock-njs-333p.jpg',\n",
              " 'happy-person-1024x768.jpeg',\n",
              " '5_14.jpg',\n",
              " 'what-makes-people-happy1.jpg',\n",
              " 'happy-people_1463241208.jpg',\n",
              " 'compassion-900x387.jpg',\n",
              " 'Happiness-Habits-10-Things-Happy-People-Do-Before-Bed-800x450.jpg',\n",
              " 'happy-indians_5f66fd46d9f5b.jpg',\n",
              " 'riskshappypeopletakeh_1384254283.jpg',\n",
              " '613k1XcpYCL._SL1200_.jpg',\n",
              " '960x0.jpg',\n",
              " 'successful-happy-business-team_53876-15205.jpg',\n",
              " 'medium-shot-happy-friends-city_23-2149003088.jpg',\n",
              " '91fee162ea8c9a46001493190430b01f.jpg',\n",
              " 'png-transparent-happy-person-hand-photography-people-thumbnail.png',\n",
              " 'has-good-mood-wears-denim-sarafan-turtleneck-isolated-pink-wall_273609-42165.jpg',\n",
              " 'happy-people-happy-funny-people-isolated-over-white-background-picture_csp13361371.jpg',\n",
              " 'young-and-happy-people-vector-15114154.jpg',\n",
              " 'WorldHappinessReport_620.jpg',\n",
              " 'happypeople.jpg',\n",
              " 'happy-person-11545688398rslqmyfw4g.png',\n",
              " '106113677-1567691321801happy_t20_xzo8rr.jpg',\n",
              " '1HEoLBLidT2u4mhJ0oiDgig.png',\n",
              " 'happy-funny-people-stock-image_csp5768356.jpg',\n",
              " 'happy-people-using-mobile-smart-phone-men-women-94083621.jpg',\n",
              " 'A_Sep20_14_1189155141.jpg',\n",
              " 'GettyImages-454356720.jpg',\n",
              " 'maxresdefault.jpg',\n",
              " '988689_Wallpaper2.jpg',\n",
              " '343515-worldhappinessreport1440.jpg',\n",
              " 'smile.woman_.jpg',\n",
              " 'happy-people-3.jpg',\n",
              " 'how-happy-are-healthy-people.jpg',\n",
              " '8e06de1bf2171da2312b6de61c61e4bc.jpg',\n",
              " 'FreeVector-Happy-People-Silhouettes.jpg',\n",
              " 'hdptcar-fi-2.jpg',\n",
              " 'happy-people-13772392.jpg',\n",
              " 'happy-person-arms-raised-outstretched-69762123.jpg',\n",
              " 'people-1230872_1280.jpg',\n",
              " 'physed-happiness-jumbo.jpg',\n",
              " '110754-utyeqqosky-1547658396.jpeg',\n",
              " 'friends-happy-190821.jpg',\n",
              " '835405.jpg',\n",
              " 'goup-happy-people-group-jumping-isolated-white-background-35581971.jpg',\n",
              " '71hBPTAhIXL.jpg',\n",
              " 'GettyImages-565706549-949x534.jpg',\n",
              " 'wp3719969.jpg',\n",
              " '05-12-21-happy-people.jpg',\n",
              " 'getty_143919450_9706479704500104_51510.jpg',\n",
              " 'nm-how-happiness-affects-health-tnail.jpg',\n",
              " 'Overtly-Cheerful-Primer-Editorials-min.png',\n",
              " 'happy-people.jpg',\n",
              " 'photo.jpg',\n",
              " '1902540.jpg',\n",
              " 'goup-happy-people-group-jumping-isolated-white-background-35582232.jpg',\n",
              " 'Dollarphotoclub_76084977-1.jpg',\n",
              " 'f2d07d65-96d6-44a3-b823-8fe496038ee6.jpg',\n",
              " 'getty_478389113_970647970450091_99776.jpg',\n",
              " 'fiendship-concept-smiling-friends-communication-weekend-university-123724503.jpg',\n",
              " 'happypeople-1024x679.jpg',\n",
              " 'pexels-photo-4611670.jpeg',\n",
              " 'pexels-photo-1999504.jpeg',\n",
              " 'happy-people2.png',\n",
              " 'getty_505175324_2000131020009280246_158016.jpg',\n",
              " 'happy-person-banner-1.jpg',\n",
              " 'happy.jpg',\n",
              " 'pexels-photo-4560119.jpeg',\n",
              " 'getty_152414899_97046097045006_68075.jpg',\n",
              " 'fHkyjn-happy-people-man-women-clipart-hd.png',\n",
              " 'happiness.jpg',\n",
              " '10-Habits-of-Happy-People-Seniors-Today.jpg',\n",
              " 'traitshappypeople.jpg',\n",
              " '227-2271622_happy-people-business-team-celebrating-png.png',\n",
              " 'GettyImages-871518740-1024x707.jpg',\n",
              " 'shutterstock_1123160147.jpg',\n",
              " '7-principles-of-successful-and-happy-people.png',\n",
              " '2016-01-04-1451880335-5503640-thedailyhabitsofsupremelyhappypeople.jpg']"
            ]
          },
          "metadata": {},
          "execution_count": 6
        }
      ]
    },
    {
      "cell_type": "code",
      "source": [
        "img_exts = ['jpeg' , 'jpg' , 'png' , 'bmp']"
      ],
      "metadata": {
        "id": "pcHmGVC0oCNT"
      },
      "execution_count": 7,
      "outputs": []
    },
    {
      "cell_type": "code",
      "source": [
        "for image_class in os.listdir(data_dir):\n",
        "     for image in os.listdir(os.path.join(data_dir , image_class)):\n",
        "         image_path = os.path.join(data_dir,image_class,image)\n",
        "         try:\n",
        "          img = cv2.imread(image_path)\n",
        "          tip = imghdr.what(image_path)\n",
        "          if tip not in img_exts:\n",
        "             print('image not in ext list {}'.format(image_path))\n",
        "             os.remove(image_path)\n",
        "         except Exception as e:\n",
        "           print('issue with image{}'.format(image_path))   "
      ],
      "metadata": {
        "id": "HADfSPtysEwu"
      },
      "execution_count": 8,
      "outputs": []
    },
    {
      "cell_type": "markdown",
      "source": [
        "IMPORTING DATASETS"
      ],
      "metadata": {
        "id": "3pr-_AFiwWwr"
      }
    },
    {
      "cell_type": "code",
      "source": [
        "tf.data.Dataset"
      ],
      "metadata": {
        "colab": {
          "base_uri": "https://localhost:8080/"
        },
        "id": "MON0NDTxPoa6",
        "outputId": "1ce525b1-fcbc-42cc-d121-ecd6adfc2113"
      },
      "execution_count": 9,
      "outputs": [
        {
          "output_type": "execute_result",
          "data": {
            "text/plain": [
              "tensorflow.python.data.ops.dataset_ops.DatasetV2"
            ]
          },
          "metadata": {},
          "execution_count": 9
        }
      ]
    },
    {
      "cell_type": "code",
      "source": [
        "#Importing data set specific dependencies\n",
        "import numpy as np\n",
        "from matplotlib import pyplot as plt"
      ],
      "metadata": {
        "id": "ql9XSYpHwbFi"
      },
      "execution_count": 10,
      "outputs": []
    },
    {
      "cell_type": "code",
      "source": [
        "data = tf.keras.utils.image_dataset_from_directory(data_dir)"
      ],
      "metadata": {
        "colab": {
          "base_uri": "https://localhost:8080/"
        },
        "id": "4Sk4k9OExBrn",
        "outputId": "ea3eb531-67e0-4496-e653-039659b80e04"
      },
      "execution_count": 11,
      "outputs": [
        {
          "output_type": "stream",
          "name": "stdout",
          "text": [
            "Found 233 files belonging to 2 classes.\n"
          ]
        }
      ]
    },
    {
      "cell_type": "code",
      "source": [
        "#accessing my data pipeline\n",
        "data_iterator = data.as_numpy_iterator()"
      ],
      "metadata": {
        "id": "6jy8yX8RNY7P"
      },
      "execution_count": 12,
      "outputs": []
    },
    {
      "cell_type": "code",
      "source": [
        "data_iterator"
      ],
      "metadata": {
        "colab": {
          "base_uri": "https://localhost:8080/"
        },
        "id": "JOUKxudW6QiJ",
        "outputId": "a95bde60-bf79-4bc5-f3de-d951625a37b8"
      },
      "execution_count": 13,
      "outputs": [
        {
          "output_type": "execute_result",
          "data": {
            "text/plain": [
              "<tensorflow.python.data.ops.dataset_ops._NumpyIterator at 0x7f922bdb7a60>"
            ]
          },
          "metadata": {},
          "execution_count": 13
        }
      ]
    },
    {
      "cell_type": "code",
      "source": [
        "#returning different batches\n",
        "batch = data_iterator.next()"
      ],
      "metadata": {
        "id": "6o6fbafGOML9"
      },
      "execution_count": 14,
      "outputs": []
    },
    {
      "cell_type": "code",
      "source": [
        "batch[0].shape"
      ],
      "metadata": {
        "colab": {
          "base_uri": "https://localhost:8080/"
        },
        "id": "QrHcAnOMCErB",
        "outputId": "cfc963ce-ec8c-4c29-d72f-dc3863ee24bf"
      },
      "execution_count": 15,
      "outputs": [
        {
          "output_type": "execute_result",
          "data": {
            "text/plain": [
              "(32, 256, 256, 3)"
            ]
          },
          "metadata": {},
          "execution_count": 15
        }
      ]
    },
    {
      "cell_type": "code",
      "source": [
        "data = data.map(lambda x,y : (x/255 , y))"
      ],
      "metadata": {
        "id": "7ZJE6ioGEtUa"
      },
      "execution_count": 16,
      "outputs": []
    },
    {
      "cell_type": "code",
      "source": [
        "data.as_numpy_iterator().next()"
      ],
      "metadata": {
        "id": "UjhdpdtaE1kR",
        "colab": {
          "base_uri": "https://localhost:8080/"
        },
        "outputId": "7223a57d-f3c3-4f93-9059-ac3bd2e3472d"
      },
      "execution_count": 17,
      "outputs": [
        {
          "output_type": "execute_result",
          "data": {
            "text/plain": [
              "(array([[[[0.1764706 , 0.29803923, 0.8980392 ],\n",
              "          [0.17005208, 0.2916207 , 0.88841146],\n",
              "          [0.16042432, 0.27925858, 0.8698683 ],\n",
              "          ...,\n",
              "          [0.24612439, 0.28163296, 0.83101255],\n",
              "          [0.20000766, 0.29091606, 0.82781863],\n",
              "          [0.16470589, 0.25882354, 0.7764706 ]],\n",
              " \n",
              "         [[0.17326133, 0.307667  , 0.90445775],\n",
              "          [0.1642165 , 0.30124846, 0.8922036 ],\n",
              "          [0.15624352, 0.28888634, 0.87531525],\n",
              "          ...,\n",
              "          [0.14060141, 0.2694729 , 0.729965  ],\n",
              "          [0.11830962, 0.29586783, 0.74728644],\n",
              "          [0.11977635, 0.3005438 , 0.73795956]],\n",
              " \n",
              "         [[0.17254902, 0.3234758 , 0.9113511 ],\n",
              "          [0.16515896, 0.31705728, 0.9029895 ],\n",
              "          [0.15804994, 0.3027886 , 0.8893683 ],\n",
              "          ...,\n",
              "          [0.1658218 , 0.29263833, 0.65824324],\n",
              "          [0.13672173, 0.29323918, 0.6605557 ],\n",
              "          [0.12621017, 0.30160078, 0.65831804]],\n",
              " \n",
              "         ...,\n",
              " \n",
              "         [[0.28627452, 0.27450982, 0.81960785],\n",
              "          [0.28627452, 0.27450982, 0.81960785],\n",
              "          [0.28818107, 0.27915075, 0.81604564],\n",
              "          ...,\n",
              "          [0.64728135, 0.14445633, 0.26778835],\n",
              "          [0.69398326, 0.1299727 , 0.26745737],\n",
              "          [0.69710475, 0.11207108, 0.27522978]],\n",
              " \n",
              "         [[0.28841147, 0.27522212, 0.82245713],\n",
              "          [0.28841147, 0.27522212, 0.82245713],\n",
              "          [0.28841147, 0.2779565 , 0.81698835],\n",
              "          ...,\n",
              "          [0.6811299 , 0.12946013, 0.26240575],\n",
              "          [0.6699222 , 0.09628277, 0.23463953],\n",
              "          [0.639591  , 0.09803156, 0.2573989 ]],\n",
              " \n",
              "         [[0.29803923, 0.2784314 , 0.8352941 ],\n",
              "          [0.29803923, 0.2784314 , 0.8352941 ],\n",
              "          [0.29803923, 0.28116575, 0.82982534],\n",
              "          ...,\n",
              "          [0.6509804 , 0.12156863, 0.2474188 ],\n",
              "          [0.6331725 , 0.12370557, 0.24135263],\n",
              "          [0.5529412 , 0.13333334, 0.2509804 ]]],\n",
              " \n",
              " \n",
              "        [[[0.26666668, 0.22745098, 0.18039216],\n",
              "          [0.2438266 , 0.20461091, 0.15755208],\n",
              "          [0.25059742, 0.21138173, 0.16432291],\n",
              "          ...,\n",
              "          [0.7641314 , 0.63471967, 0.32491574],\n",
              "          [0.75305605, 0.6230699 , 0.3137255 ],\n",
              "          [0.75686276, 0.60784316, 0.3137255 ]],\n",
              " \n",
              "         [[0.18161765, 0.14240196, 0.1006587 ],\n",
              "          [0.20005625, 0.1660004 , 0.11651739],\n",
              "          [0.23335299, 0.19439685, 0.15226427],\n",
              "          ...,\n",
              "          [0.7723644 , 0.6429526 , 0.33340818],\n",
              "          [0.7667343 , 0.6369038 , 0.33279714],\n",
              "          [0.7834406 , 0.63973653, 0.34827664]],\n",
              " \n",
              "         [[0.15388328, 0.11648285, 0.07908241],\n",
              "          [0.18842591, 0.16040091, 0.11158045],\n",
              "          [0.22214311, 0.1852143 , 0.14723942],\n",
              "          ...,\n",
              "          [0.7760132 , 0.6447862 , 0.3444415 ],\n",
              "          [0.7677926 , 0.6362209 , 0.34362787],\n",
              "          [0.79063267, 0.64764094, 0.3647059 ]],\n",
              " \n",
              "         ...,\n",
              " \n",
              "         [[0.22352941, 0.28235295, 0.29411766],\n",
              "          [0.25398284, 0.3089997 , 0.31315103],\n",
              "          [0.21041778, 0.2558561 , 0.24112724],\n",
              "          ...,\n",
              "          [0.33391544, 0.34175858, 0.29862133],\n",
              "          [0.33403033, 0.3416437 , 0.29839155],\n",
              "          [0.337837  , 0.337837  , 0.2907782 ]],\n",
              " \n",
              "         [[0.2247932 , 0.28235295, 0.29411766],\n",
              "          [0.25770015, 0.31268   , 0.31683135],\n",
              "          [0.21405615, 0.25776786, 0.24303898],\n",
              "          ...,\n",
              "          [0.33232996, 0.3401731 , 0.29703584],\n",
              "          [0.33244485, 0.3400582 , 0.29680607],\n",
              "          [0.33625153, 0.33625153, 0.2891927 ]],\n",
              " \n",
              "         [[0.22745098, 0.28235295, 0.29411766],\n",
              "          [0.26551777, 0.32041973, 0.32457107],\n",
              "          [0.21444547, 0.25815716, 0.2434283 ],\n",
              "          ...,\n",
              "          [0.3137255 , 0.32156864, 0.2784314 ],\n",
              "          [0.3138404 , 0.32145375, 0.27820158],\n",
              "          [0.31764707, 0.31764707, 0.27058825]]],\n",
              " \n",
              " \n",
              "        [[[0.07352941, 0.07352941, 0.06568628],\n",
              "          [0.08128829, 0.08128829, 0.07344516],\n",
              "          [0.08628983, 0.08628983, 0.07844669],\n",
              "          ...,\n",
              "          [0.09719669, 0.14033395, 0.07758885],\n",
              "          [0.11902574, 0.16608456, 0.08765319],\n",
              "          [0.11323529, 0.16813725, 0.07794118]],\n",
              " \n",
              "         [[0.06417739, 0.06417739, 0.05633425],\n",
              "          [0.06707261, 0.06707261, 0.05922947],\n",
              "          [0.0589231 , 0.0589231 , 0.05107996],\n",
              "          ...,\n",
              "          [0.11870404, 0.1618413 , 0.0990962 ],\n",
              "          [0.09245557, 0.1395144 , 0.06108303],\n",
              "          [0.16246936, 0.21737133, 0.11541054]],\n",
              " \n",
              "         [[0.07305454, 0.07305454, 0.0652114 ],\n",
              "          [0.08855698, 0.08855698, 0.08071385],\n",
              "          [0.07642464, 0.07642464, 0.06858149],\n",
              "          ...,\n",
              "          [0.08632813, 0.12946539, 0.06672028],\n",
              "          [0.09489124, 0.13018535, 0.04783241],\n",
              "          [0.17637868, 0.20775123, 0.11632966]],\n",
              " \n",
              "         ...,\n",
              " \n",
              "         [[0.23471966, 0.22295496, 0.19550398],\n",
              "          [0.24699755, 0.23523284, 0.20778187],\n",
              "          [0.26407015, 0.24446231, 0.2209329 ],\n",
              "          ...,\n",
              "          [0.09231771, 0.07663143, 0.06486673],\n",
              "          [0.07603401, 0.07211244, 0.0642693 ],\n",
              "          [0.08691789, 0.09083946, 0.07123162]],\n",
              " \n",
              "         [[0.25635722, 0.24067095, 0.1975337 ],\n",
              "          [0.32625613, 0.29880515, 0.25958946],\n",
              "          [0.2957797 , 0.26440716, 0.22126992],\n",
              "          ...,\n",
              "          [0.11421569, 0.09852941, 0.08676471],\n",
              "          [0.05612745, 0.05220588, 0.03651961],\n",
              "          [0.09734987, 0.09342831, 0.08558517]],\n",
              " \n",
              "         [[0.39970896, 0.3069623 , 0.2541437 ],\n",
              "          [0.4353937 , 0.33600643, 0.27804074],\n",
              "          [0.46042433, 0.35846356, 0.29964   ],\n",
              "          ...,\n",
              "          [0.09511336, 0.09290747, 0.07636335],\n",
              "          [0.09021906, 0.09414063, 0.07453278],\n",
              "          [0.09271599, 0.08879443, 0.07310815]]],\n",
              " \n",
              " \n",
              "        ...,\n",
              " \n",
              " \n",
              "        [[[0.9647059 , 0.9764706 , 0.99607843],\n",
              "          [0.9647059 , 0.9764706 , 0.99607843],\n",
              "          [0.96593136, 0.9789216 , 0.99607843],\n",
              "          ...,\n",
              "          [1.        , 1.        , 1.        ],\n",
              "          [1.        , 1.        , 1.        ],\n",
              "          [1.        , 1.        , 1.        ]],\n",
              " \n",
              "         [[0.9647059 , 0.9764706 , 0.99607843],\n",
              "          [0.9647059 , 0.9764706 , 0.99607843],\n",
              "          [0.96593136, 0.9789216 , 0.99607843],\n",
              "          ...,\n",
              "          [1.        , 1.        , 1.        ],\n",
              "          [1.        , 1.        , 1.        ],\n",
              "          [1.        , 1.        , 1.        ]],\n",
              " \n",
              "         [[0.9647059 , 0.9764706 , 0.99607843],\n",
              "          [0.9647059 , 0.9764706 , 0.99607843],\n",
              "          [0.96593136, 0.9789216 , 0.99607843],\n",
              "          ...,\n",
              "          [1.        , 1.        , 1.        ],\n",
              "          [1.        , 1.        , 1.        ],\n",
              "          [1.        , 1.        , 1.        ]],\n",
              " \n",
              "         ...,\n",
              " \n",
              "         [[0.4317828 , 0.38804907, 0.40265107],\n",
              "          [0.4830466 , 0.4391391 , 0.45452377],\n",
              "          [0.5014122 , 0.46958008, 0.48348507],\n",
              "          ...,\n",
              "          [0.691007  , 0.6739732 , 0.6731656 ],\n",
              "          [0.7041949 , 0.6897849 , 0.6942249 ],\n",
              "          [0.7313793 , 0.7287205 , 0.7300499 ]],\n",
              " \n",
              "         [[0.42748928, 0.41264457, 0.4205801 ],\n",
              "          [0.4353573 , 0.40505993, 0.41876101],\n",
              "          [0.5045233 , 0.47581714, 0.49272892],\n",
              "          ...,\n",
              "          [0.6999794 , 0.6896853 , 0.6887049 ],\n",
              "          [0.70441175, 0.6965686 , 0.7004902 ],\n",
              "          [0.7385484 , 0.7307052 , 0.7346268 ]],\n",
              " \n",
              "         [[0.5224107 , 0.5398969 , 0.54741836],\n",
              "          [0.47651654, 0.48270383, 0.4926844 ],\n",
              "          [0.5084377 , 0.501832  , 0.5185226 ],\n",
              "          ...,\n",
              "          [0.71014524, 0.6998511 , 0.6988707 ],\n",
              "          [0.7047492 , 0.6969061 , 0.70082766],\n",
              "          [0.7406863 , 0.73284316, 0.7367647 ]]],\n",
              " \n",
              " \n",
              "        [[[0.1254902 , 0.15686275, 0.16862746],\n",
              "          [0.12941177, 0.16078432, 0.17254902],\n",
              "          [0.13814338, 0.16230085, 0.1764706 ],\n",
              "          ...,\n",
              "          [0.2627451 , 0.2627451 , 0.2627451 ],\n",
              "          [0.25948223, 0.25948223, 0.25948223],\n",
              "          [0.24705882, 0.24705882, 0.24705882]],\n",
              " \n",
              "         [[0.1254902 , 0.15686275, 0.16862746],\n",
              "          [0.13003315, 0.16140571, 0.17317042],\n",
              "          [0.13814338, 0.16230085, 0.1764706 ],\n",
              "          ...,\n",
              "          [0.2627451 , 0.2627451 , 0.2627451 ],\n",
              "          [0.25948223, 0.25948223, 0.25948223],\n",
              "          [0.24705882, 0.24705882, 0.24705882]],\n",
              " \n",
              "         [[0.12894656, 0.1603191 , 0.17208381],\n",
              "          [0.13007046, 0.16144301, 0.17320772],\n",
              "          [0.13539076, 0.16367717, 0.1764706 ],\n",
              "          ...,\n",
              "          [0.2649893 , 0.2649893 , 0.2649893 ],\n",
              "          [0.26134947, 0.26134947, 0.26134947],\n",
              "          [0.25546876, 0.25546876, 0.25546876]],\n",
              " \n",
              "         ...,\n",
              " \n",
              "         [[0.06227988, 0.08188773, 0.097574  ],\n",
              "          [0.0627451 , 0.08235294, 0.09935661],\n",
              "          [0.0627451 , 0.08235294, 0.10588235],\n",
              "          ...,\n",
              "          [0.23072387, 0.23464544, 0.24248858],\n",
              "          [0.22745098, 0.23137255, 0.23921569],\n",
              "          [0.22969516, 0.23361672, 0.24145986]],\n",
              " \n",
              "         [[0.05882353, 0.07843138, 0.09411765],\n",
              "          [0.0627451 , 0.08235294, 0.09935661],\n",
              "          [0.0627451 , 0.08235294, 0.10588235],\n",
              "          ...,\n",
              "          [0.229856  , 0.23377757, 0.2416207 ],\n",
              "          [0.22745098, 0.23137255, 0.23921569],\n",
              "          [0.2276731 , 0.23159467, 0.2394378 ]],\n",
              " \n",
              "         [[0.05344669, 0.08111979, 0.09411765],\n",
              "          [0.06319667, 0.08190137, 0.10383032],\n",
              "          [0.06378476, 0.08131328, 0.10588235],\n",
              "          ...,\n",
              "          [0.23089567, 0.23585689, 0.24058105],\n",
              "          [0.22968782, 0.23182411, 0.23831254],\n",
              "          [0.2259957 , 0.22991727, 0.23776041]]],\n",
              " \n",
              " \n",
              "        [[[0.9019608 , 0.95686275, 0.8980392 ],\n",
              "          [0.9019608 , 0.95686275, 0.8980392 ],\n",
              "          [0.9019608 , 0.95686275, 0.8980392 ],\n",
              "          ...,\n",
              "          [0.9098039 , 0.95686275, 0.9019608 ],\n",
              "          [0.9098039 , 0.95686275, 0.9019608 ],\n",
              "          [0.9098039 , 0.95686275, 0.9019608 ]],\n",
              " \n",
              "         [[0.9019608 , 0.95686275, 0.8980392 ],\n",
              "          [0.9019608 , 0.95686275, 0.8980392 ],\n",
              "          [0.9019608 , 0.95686275, 0.8980392 ],\n",
              "          ...,\n",
              "          [0.9098039 , 0.95686275, 0.9019608 ],\n",
              "          [0.9098039 , 0.95686275, 0.9019608 ],\n",
              "          [0.9098039 , 0.95686275, 0.9019608 ]],\n",
              " \n",
              "         [[0.90588236, 0.9529412 , 0.8980392 ],\n",
              "          [0.90588236, 0.9529412 , 0.8980392 ],\n",
              "          [0.90588236, 0.9529412 , 0.8980392 ],\n",
              "          ...,\n",
              "          [0.9098039 , 0.95686275, 0.9019608 ],\n",
              "          [0.9098039 , 0.95686275, 0.9019608 ],\n",
              "          [0.9098039 , 0.95686275, 0.9019608 ]],\n",
              " \n",
              "         ...,\n",
              " \n",
              "         [[0.99607843, 0.99607843, 0.99607843],\n",
              "          [0.99607843, 0.99607843, 0.99607843],\n",
              "          [0.99607843, 0.99607843, 0.99607843],\n",
              "          ...,\n",
              "          [0.99607843, 0.99607843, 0.99607843],\n",
              "          [0.99607843, 0.99607843, 0.99607843],\n",
              "          [0.99607843, 0.99607843, 0.99607843]],\n",
              " \n",
              "         [[0.99607843, 0.99607843, 0.99607843],\n",
              "          [0.99607843, 0.99607843, 0.99607843],\n",
              "          [0.99607843, 0.99607843, 0.99607843],\n",
              "          ...,\n",
              "          [0.99607843, 0.99607843, 0.99607843],\n",
              "          [0.99607843, 0.99607843, 0.99607843],\n",
              "          [0.99607843, 0.99607843, 0.99607843]],\n",
              " \n",
              "         [[0.99607843, 0.99607843, 0.99607843],\n",
              "          [0.99607843, 0.99607843, 0.99607843],\n",
              "          [0.99607843, 0.99607843, 0.99607843],\n",
              "          ...,\n",
              "          [0.99607843, 0.99607843, 0.99607843],\n",
              "          [0.99607843, 0.99607843, 0.99607843],\n",
              "          [0.99607843, 0.99607843, 0.99607843]]]], dtype=float32),\n",
              " array([1, 1, 0, 1, 1, 0, 1, 0, 1, 0, 1, 1, 1, 1, 0, 1, 1, 1, 1, 1, 1, 1,\n",
              "        1, 1, 0, 1, 1, 1, 0, 0, 1, 1], dtype=int32))"
            ]
          },
          "metadata": {},
          "execution_count": 17
        }
      ]
    },
    {
      "cell_type": "code",
      "source": [
        "len(data)"
      ],
      "metadata": {
        "colab": {
          "base_uri": "https://localhost:8080/"
        },
        "id": "ncyR98OrqZoF",
        "outputId": "980fba57-ecc0-4258-cb4f-56b464452a44"
      },
      "execution_count": 18,
      "outputs": [
        {
          "output_type": "execute_result",
          "data": {
            "text/plain": [
              "8"
            ]
          },
          "metadata": {},
          "execution_count": 18
        }
      ]
    },
    {
      "cell_type": "code",
      "source": [
        "train_size = int(len(data)*0.7) +1\n",
        "val_size = int(len(data)*0.2) +1\n",
        "test_size = int(len(data)*0.1)"
      ],
      "metadata": {
        "id": "rqFgDmvqqd5j"
      },
      "execution_count": 19,
      "outputs": []
    },
    {
      "cell_type": "code",
      "source": [
        "train_size  + val_size + test_size"
      ],
      "metadata": {
        "colab": {
          "base_uri": "https://localhost:8080/"
        },
        "id": "VTfsmVeaqxSG",
        "outputId": "da00fdd8-321a-42d8-e44e-ce6341e98150"
      },
      "execution_count": 20,
      "outputs": [
        {
          "output_type": "execute_result",
          "data": {
            "text/plain": [
              "8"
            ]
          },
          "metadata": {},
          "execution_count": 20
        }
      ]
    },
    {
      "cell_type": "code",
      "source": [
        "train = data.take(train_size)\n",
        "val = data.skip(train_size).take(val_size)\n",
        "test = data.skip(train_size + val_size).take(test_size)"
      ],
      "metadata": {
        "id": "PhSWoaoMsRGe"
      },
      "execution_count": 21,
      "outputs": []
    },
    {
      "cell_type": "markdown",
      "source": [
        "FINALLY MAKING THE NEURAL NETWORK ARCHITECTURE!\n"
      ],
      "metadata": {
        "id": "jnDYdD7XtRj-"
      }
    },
    {
      "cell_type": "code",
      "source": [
        "from tensorflow.keras.models import Sequential\n",
        "from tensorflow.keras.layers import Conv2D, MaxPooling2D , Dense , Flatten"
      ],
      "metadata": {
        "id": "PHSOV2TOtW3j"
      },
      "execution_count": 22,
      "outputs": []
    },
    {
      "cell_type": "code",
      "source": [
        "model = Sequential()"
      ],
      "metadata": {
        "id": "zAILapr8xe5h"
      },
      "execution_count": 23,
      "outputs": []
    },
    {
      "cell_type": "code",
      "source": [
        "model.add(Conv2D(16 , (3,3) , 1 , activation = 'relu' , input_shape = (256,256,3)))\n",
        "model.add(MaxPooling2D())\n",
        "\n",
        "model.add(Conv2D(32 , (3,3) , 1 , activation = 'relu'))\n",
        "model.add(MaxPooling2D())\n",
        "\n",
        "\n",
        "model.add(Conv2D(16 , (3,3) , 1 , activation = 'relu'))\n",
        "model.add(MaxPooling2D())\n",
        "\n",
        "model.add(Flatten())\n",
        "\n",
        "model.add(Dense(256 , activation = 'relu'))\n",
        "model.add(Dense(1 , activation = 'sigmoid'))\n"
      ],
      "metadata": {
        "id": "OaclTICkxhjs"
      },
      "execution_count": 24,
      "outputs": []
    },
    {
      "cell_type": "code",
      "source": [
        "model.compile('adam' , loss = tf.losses.BinaryCrossentropy() ,metrics = 'accuracy')"
      ],
      "metadata": {
        "id": "vVrkBikRimEU"
      },
      "execution_count": 32,
      "outputs": []
    },
    {
      "cell_type": "code",
      "source": [
        "#For seeing the internal working in our neural network architecture!\n",
        "model.summary()"
      ],
      "metadata": {
        "id": "7oLlxcq21dYu"
      },
      "execution_count": null,
      "outputs": []
    },
    {
      "cell_type": "markdown",
      "source": [
        "Training our model!\n"
      ],
      "metadata": {
        "id": "aE0-yAF3_d8P"
      }
    },
    {
      "cell_type": "code",
      "source": [
        "logdir = \"/content/drive/MyDrive/Colab Notebooks/Image Classification Project/logs\""
      ],
      "metadata": {
        "id": "Ego4zXrf_hhk"
      },
      "execution_count": 26,
      "outputs": []
    },
    {
      "cell_type": "code",
      "source": [
        "tensorboard_callback = tf.keras.callbacks.TensorBoard(log_dir = logdir)"
      ],
      "metadata": {
        "id": "OK9cn9lQg1AE"
      },
      "execution_count": 27,
      "outputs": []
    },
    {
      "cell_type": "code",
      "source": [
        "hist = model.fit(train,epochs=20,validation_data=val , callbacks = [tensorboard_callback])"
      ],
      "metadata": {
        "colab": {
          "base_uri": "https://localhost:8080/"
        },
        "id": "8ilB9Dk_hAWI",
        "outputId": "dbaeb52d-fce6-4404-f515-7b4457377f23"
      },
      "execution_count": 33,
      "outputs": [
        {
          "output_type": "stream",
          "name": "stdout",
          "text": [
            "Epoch 1/20\n",
            "6/6 [==============================] - 20s 3s/step - loss: 0.9878 - accuracy: 0.4844 - val_loss: 0.6528 - val_accuracy: 0.6829\n",
            "Epoch 2/20\n",
            "6/6 [==============================] - 18s 2s/step - loss: 0.6818 - accuracy: 0.6042 - val_loss: 0.6416 - val_accuracy: 0.6585\n",
            "Epoch 3/20\n",
            "6/6 [==============================] - 19s 3s/step - loss: 0.6125 - accuracy: 0.6927 - val_loss: 0.5423 - val_accuracy: 0.7561\n",
            "Epoch 4/20\n",
            "6/6 [==============================] - 19s 3s/step - loss: 0.5202 - accuracy: 0.8333 - val_loss: 0.4496 - val_accuracy: 0.7561\n",
            "Epoch 5/20\n",
            "6/6 [==============================] - 22s 3s/step - loss: 0.3623 - accuracy: 0.8281 - val_loss: 0.2837 - val_accuracy: 0.8780\n",
            "Epoch 6/20\n",
            "6/6 [==============================] - 19s 3s/step - loss: 0.2480 - accuracy: 0.9062 - val_loss: 0.1453 - val_accuracy: 0.9512\n",
            "Epoch 7/20\n",
            "6/6 [==============================] - 19s 3s/step - loss: 0.2674 - accuracy: 0.8750 - val_loss: 0.1684 - val_accuracy: 0.9512\n",
            "Epoch 8/20\n",
            "6/6 [==============================] - 19s 3s/step - loss: 0.1918 - accuracy: 0.9062 - val_loss: 0.1283 - val_accuracy: 0.9512\n",
            "Epoch 9/20\n",
            "6/6 [==============================] - 19s 3s/step - loss: 0.1446 - accuracy: 0.9583 - val_loss: 0.1535 - val_accuracy: 0.9512\n",
            "Epoch 10/20\n",
            "6/6 [==============================] - 19s 3s/step - loss: 0.0987 - accuracy: 0.9635 - val_loss: 0.0759 - val_accuracy: 0.9512\n",
            "Epoch 11/20\n",
            "6/6 [==============================] - 18s 3s/step - loss: 0.0464 - accuracy: 0.9896 - val_loss: 0.0200 - val_accuracy: 1.0000\n",
            "Epoch 12/20\n",
            "6/6 [==============================] - 21s 3s/step - loss: 0.0331 - accuracy: 1.0000 - val_loss: 0.0150 - val_accuracy: 1.0000\n",
            "Epoch 13/20\n",
            "6/6 [==============================] - 18s 3s/step - loss: 0.0172 - accuracy: 1.0000 - val_loss: 0.0072 - val_accuracy: 1.0000\n",
            "Epoch 14/20\n",
            "6/6 [==============================] - 18s 3s/step - loss: 0.0126 - accuracy: 1.0000 - val_loss: 0.0293 - val_accuracy: 1.0000\n",
            "Epoch 15/20\n",
            "6/6 [==============================] - 24s 4s/step - loss: 0.0199 - accuracy: 1.0000 - val_loss: 0.0093 - val_accuracy: 1.0000\n",
            "Epoch 16/20\n",
            "6/6 [==============================] - 18s 3s/step - loss: 0.0121 - accuracy: 0.9948 - val_loss: 0.0040 - val_accuracy: 1.0000\n",
            "Epoch 17/20\n",
            "6/6 [==============================] - 19s 3s/step - loss: 0.0123 - accuracy: 0.9948 - val_loss: 0.0095 - val_accuracy: 1.0000\n",
            "Epoch 18/20\n",
            "6/6 [==============================] - 25s 4s/step - loss: 0.0281 - accuracy: 0.9948 - val_loss: 0.0439 - val_accuracy: 1.0000\n",
            "Epoch 19/20\n",
            "6/6 [==============================] - 29s 4s/step - loss: 0.0222 - accuracy: 0.9948 - val_loss: 0.0165 - val_accuracy: 1.0000\n",
            "Epoch 20/20\n",
            "6/6 [==============================] - 21s 3s/step - loss: 0.0224 - accuracy: 0.9948 - val_loss: 0.0190 - val_accuracy: 1.0000\n"
          ]
        }
      ]
    },
    {
      "cell_type": "code",
      "source": [
        "fig = plt.figure()\n",
        "plt.plot(hist.history['loss'] , color = 'red' , label = 'loss')\n",
        "plt.plot(hist.history['val_loss'] , color = 'green' , label = 'val_loss')\n",
        "fig.suptitle('Loss' , fontsize = 25)\n",
        "plt.legend(loc = \"lower right\")\n",
        "plt.show()\n",
        "\n",
        "#from the graph we can see our loss is steadily decreasing thus our model is working awesome!"
      ],
      "metadata": {
        "colab": {
          "base_uri": "https://localhost:8080/",
          "height": 294
        },
        "id": "iadbryMAkW-T",
        "outputId": "393d6f32-e6bb-424c-c13f-9352760d1c7d"
      },
      "execution_count": 41,
      "outputs": [
        {
          "output_type": "display_data",
          "data": {
            "text/plain": [
              "<Figure size 432x288 with 1 Axes>"
            ],
            "image/png": "[encoded data removed]"
          },
          "metadata": {
            "needs_background": "light"
          }
        }
      ]
    },
    {
      "cell_type": "code",
      "source": [
        "fig = plt.figure()\n",
        "plt.plot(hist.history['accuracy'] , color = 'red' , label = 'loss')\n",
        "plt.plot(hist.history['val_accuracy'] , color = 'green' , label = 'val_loss')\n",
        "fig.suptitle('Accuracy' , fontsize = 25)\n",
        "plt.legend(loc = \"lower right\")\n",
        "plt.show()\n",
        "\n",
        "#Since our accouracy is increasing to a value of 1 our model is working absolutely fine! And we dont have to do any further modifications."
      ],
      "metadata": {
        "colab": {
          "base_uri": "https://localhost:8080/",
          "height": 294
        },
        "id": "v_b5Q69clR4f",
        "outputId": "3604cc13-7bce-4dfd-a9bb-317f88799eec"
      },
      "execution_count": 40,
      "outputs": [
        {
          "output_type": "display_data",
          "data": {
            "text/plain": [
              "<Figure size 432x288 with 1 Axes>"
            ],
            "image/png": "[encoded data removed]"
          },
          "metadata": {
            "needs_background": "light"
          }
        }
      ]
    }
  ]
}